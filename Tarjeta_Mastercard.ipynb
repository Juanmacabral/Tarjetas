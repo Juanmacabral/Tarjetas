{
 "cells": [
  {
   "cell_type": "code",
   "execution_count": 1,
   "id": "61225728",
   "metadata": {},
   "outputs": [],
   "source": [
    "import pandas as pd\n",
    "import openpyxl\n",
    "from pandas import ExcelWriter"
   ]
  },
  {
   "cell_type": "code",
   "execution_count": 1,
   "id": "90160b29",
   "metadata": {},
   "outputs": [],
   "source": [
    "%store -r tarjetas\n",
    "%store -r bancos"
   ]
  },
  {
   "cell_type": "code",
   "execution_count": 2,
   "id": "141f9cf8",
   "metadata": {},
   "outputs": [],
   "source": [
    "tarjeta_mastercard = tarjetas.loc [tarjetas['Cod Marca Producto']== 'Mastercard'] #Filtro por la Tarjeta Mastercard\n",
    "tarjeta_mastercard = tarjeta_mastercard.loc[:, (tarjeta_mastercard!= 0).any(axis=0)]\n",
    "tarjeta_mastercard = tarjeta_mastercard.loc[tarjetas['Cod Comercio']== 4547438] #Hay que filtrar por la tarjeta Mastercad y por este numero de comercio"
   ]
  },
  {
   "cell_type": "code",
   "execution_count": 3,
   "id": "2afd68e0",
   "metadata": {},
   "outputs": [],
   "source": [
    "tarjeta_mastercard[\"PERCEPCION IVA R.G. 2408  1,50/3,00 %\"] = tarjeta_mastercard[\n",
    "                  ['PERCEPCION IVA R.G. 2408   1,50 %', 'PERCEPCION IVA R.G. 2408   3,00 %']].sum(axis=1, min_count=1)\n",
    "tarjeta_mastercard['VENTAS'] = tarjeta_mastercard['VENTAS C/DESCUENTO CONTADO'] + tarjeta_mastercard['VENTAS C/DTO CUOTAS FINANC. OTORG.']\n",
    "tarjeta_mastercard['RETENCION ING.BRUTOS SIRTAC'] = (tarjeta_mastercard['RETENCION ING.BRUTOS SIRTAC']\n",
    "                                                  - tarjeta_mastercard['AJUSTE SIRTAC NOV. 1RA QU']\n",
    "                                                  + tarjeta_mastercard['QR  RETENCION IIBB BS. AS.']\n",
    "                                                  + tarjeta_mastercard['AJUSTE SIRTAC OCT. 2DA QUIN'])  \n",
    "tarjeta_mastercard['RETENCION IVA'] = tarjeta_mastercard['RETENCION IVA'] + tarjeta_mastercard['QR  RETENCION IVA']\n",
    "tarjeta_mastercard['RETENCION IMP.GANANCIAS'] = tarjeta_mastercard['RETENCION IMP.GANANCIAS'] + tarjeta_mastercard['QR  RETENCION GANANCIAS']\n",
    "\n",
    "tarjeta_mastercard[\"TOTAL DEDUCCIONES\"] = tarjeta_mastercard[[\"TOTAL DEDUCCIONES\", \"TOTAL PAGOS DE COMERCIOS\",'CARGOS DE ENTIDAD']\n",
    "                                                             ].sum(axis=1, min_count=1)\n",
    "tarjeta_mastercard[\"TOTAL DEDUCCIONES\"]= tarjeta_mastercard[\"TOTAL DEDUCCIONES\"] - tarjeta_mastercard['REEMBOLSOS DE ENTIDAD']\n",
    "tarjeta_mastercard['IVA 21%'] = tarjeta_mastercard[['IVA CRED.FISC.COMERCIO S/ARANC 21,00%','IVA PROMO CUOTAS AHORA 12/18 - 21,00%'\n",
    "                              , 'IVA RI SIST CUOTAS','IVA RI CRED.FISC.COMERCIO S/DTO F.OTORG'\n",
    "                              ,'IVA RI. CARGO LIQUID. ELECT.', 'IVA RI SERV.OPER. INT.']].sum(axis=1, min_count=1)\n",
    "tarjeta_mastercard['ARANCEL'] = (tarjeta_mastercard['ARANCEL'] + tarjeta_mastercard['CARGO  SISTEMA CUOTAS MENS'] +\n",
    "                                tarjeta_mastercard['CARGO LIQUIDACION ELECTR.']+ tarjeta_mastercard['SERVICIO OPER. INTERNAC.'])\n",
    "tarjeta_mastercard['DESCUENTO FINANC.OTORG. CUOTAS/PROMO CUOTAS AHORA 12/18'] = (tarjeta_mastercard['DESCUENTO FINANC.OTORG. CUOTAS']\n",
    "                                                                              + tarjeta_mastercard['PROMO CUOTAS AHORA 12/18'])\n",
    "tarjeta_mastercard['Iva 10,5%'] = (tarjeta_mastercard['IVA PROMO CUOTAS AHORA 12/18 - 10,50%'] \n",
    "                               + tarjeta_mastercard['IVA CRED.FISC.COM.L.25063 S/DTO F.OTOR 10,50'])\n",
    "tarjeta_mastercard = tarjeta_mastercard.reindex(columns=['Fecha de Pago', 'Cod Marca Producto', 'Cod Comercio',\n",
    "       'Nro Liquidacion','VENTAS', 'ARANCEL', 'IVA 21%', 'DESCUENTO FINANC.OTORG. CUOTAS/PROMO CUOTAS AHORA 12/18',\n",
    "       'Iva 10,5%', 'RETENCION IVA','PER B.A.I.BR.DN.01/04', 'RETENCION IMP.GANANCIAS','RETENCION ING.BRUTOS',\n",
    "       'RETENCION ING.BRUTOS SIRTAC',\"PERCEPCION IVA R.G. 2408  1,50/3,00 %\",\n",
    "       'TOTAL DEDUCCIONES', 'IMPORTE NETO DE PAGOS']) #reordeno columnas, aca ya quedan en el orden que es necesario,  ,\n",
    "tarjeta_mastercard['DESCUENTO FINANC.OTORG. CUOTAS/PROMO CUOTAS AHORA 12/18'] = tarjeta_mastercard['Iva 10,5%']*100/10.5\n",
    "tarjeta_mastercard['ARANCEL'] = tarjeta_mastercard['IVA 21%']*100/21            \n",
    "\n",
    "tarjeta_mastercard.insert(7, 'Iva 21 control', tarjeta_mastercard['IVA 21%']/tarjeta_mastercard['ARANCEL'])\n",
    "                                #agrego columna de control para IVA 21%\n",
    "tarjeta_mastercard.insert(10, 'Iva 10,5 control', \n",
    "                                tarjeta_mastercard['Iva 10,5%']/tarjeta_mastercard['DESCUENTO FINANC.OTORG. CUOTAS/PROMO CUOTAS AHORA 12/18'])\n",
    "                                #agrego columna de control para IVA 10,5%                                \n",
    "tarjeta_mastercard = tarjeta_mastercard.assign(Diferencia = tarjeta_mastercard.iloc[:, 5:7].sum(axis=True) \n",
    "                         + tarjeta_mastercard.iloc[:, 8:10].sum(axis=True)\n",
    "                         + tarjeta_mastercard.iloc[:, 11:18].sum(axis=True)\n",
    "                         - tarjeta_mastercard['TOTAL DEDUCCIONES']) #agrego columna de control final\n",
    "tarjeta_mastercard = tarjeta_mastercard.round(2)"
   ]
  },
  {
   "cell_type": "code",
   "execution_count": 4,
   "id": "31c6cacd",
   "metadata": {},
   "outputs": [
    {
     "data": {
      "text/plain": [
       "Index(['Fecha de Pago', 'Cod Marca Producto', 'Cod Comercio',\n",
       "       'Nro Liquidacion', 'VENTAS', 'ARANCEL', 'IVA 21%', 'Iva 21 control',\n",
       "       'DESCUENTO FINANC.OTORG. CUOTAS/PROMO CUOTAS AHORA 12/18', 'Iva 10,5%',\n",
       "       'Iva 10,5 control', 'RETENCION IVA', 'PER B.A.I.BR.DN.01/04',\n",
       "       'RETENCION IMP.GANANCIAS', 'RETENCION ING.BRUTOS',\n",
       "       'RETENCION ING.BRUTOS SIRTAC', 'PERCEPCION IVA R.G. 2408  1,50/3,00 %',\n",
       "       'TOTAL DEDUCCIONES', 'IMPORTE NETO DE PAGOS', 'Diferencia'],\n",
       "      dtype='object', name='Desc Concepto Clearing')"
      ]
     },
     "execution_count": 4,
     "metadata": {},
     "output_type": "execute_result"
    }
   ],
   "source": [
    "tarjeta_mastercard.columns"
   ]
  },
  {
   "cell_type": "code",
   "execution_count": 5,
   "id": "76ac7e88",
   "metadata": {},
   "outputs": [],
   "source": [
    "sum_columns = [\n",
    "       'Nro Liquidacion', 'VENTAS', 'ARANCEL', 'IVA 21%', 'Iva 21 control',\n",
    "       'DESCUENTO FINANC.OTORG. CUOTAS/PROMO CUOTAS AHORA 12/18', 'Iva 10,5%',\n",
    "       'Iva 10,5 control', 'RETENCION IVA', 'PER B.A.I.BR.DN.01/04',\n",
    "       'RETENCION IMP.GANANCIAS', 'RETENCION ING.BRUTOS',\n",
    "       'RETENCION ING.BRUTOS SIRTAC', \"PERCEPCION IVA R.G. 2408  1,50/3,00 %\",\n",
    "       'TOTAL DEDUCCIONES',\n",
    "       'IMPORTE NETO DE PAGOS', 'Diferencia'] #'REEMBOLSOS DE ENTIDAD',\n",
    "max_columns = ['Nro Liquidacion']\n",
    "\n",
    "group = {col: ('max' if col in max_columns else 'sum') for col in sum_columns}\n",
    "\n"
   ]
  },
  {
   "cell_type": "code",
   "execution_count": 6,
   "id": "ccd5c7d5",
   "metadata": {},
   "outputs": [],
   "source": [
    "tarjeta_mastercard=tarjeta_mastercard.groupby(by=['Cod Marca Producto', 'Cod Comercio']).agg(group)"
   ]
  },
  {
   "cell_type": "code",
   "execution_count": 8,
   "id": "a9e91f77",
   "metadata": {},
   "outputs": [],
   "source": [
    "tarjeta_mastercard= tarjeta_mastercard.drop(['Diferencia', 'Iva 21 control', 'Iva 10,5 control'], axis=1)"
   ]
  },
  {
   "cell_type": "code",
   "execution_count": 9,
   "id": "e99e3b7f",
   "metadata": {},
   "outputs": [
    {
     "name": "stderr",
     "output_type": "stream",
     "text": [
      "C:\\Users\\Juan M Cabral\\AppData\\Local\\Temp\\ipykernel_2500\\191230414.py:3: FutureWarning: save is not part of the public API, usage can give unexpected results and will be removed in a future version\n",
      "  writer.save()\n"
     ]
    }
   ],
   "source": [
    "writer = ExcelWriter(r'C:\\Users\\Juan M Cabral\\Desktop\\Liquidaciones tarjetas\\11-22\\Mastercard1122.xlsx')\n",
    "tarjeta_mastercard.to_excel(writer, 'Hoja de datos', index=True)\n",
    "writer.save()"
   ]
  },
  {
   "cell_type": "code",
   "execution_count": null,
   "id": "e4a7b7a0",
   "metadata": {},
   "outputs": [],
   "source": [
    "\n",
    "\n",
    "tarjeta_mastercard[(tarjeta_mastercard['REEMBOLSOS DE ENTIDAD'] > 1)]"
   ]
  },
  {
   "cell_type": "code",
   "execution_count": 7,
   "id": "fdede2f7",
   "metadata": {},
   "outputs": [
    {
     "data": {
      "text/html": [
       "<div>\n",
       "<style scoped>\n",
       "    .dataframe tbody tr th:only-of-type {\n",
       "        vertical-align: middle;\n",
       "    }\n",
       "\n",
       "    .dataframe tbody tr th {\n",
       "        vertical-align: top;\n",
       "    }\n",
       "\n",
       "    .dataframe thead th {\n",
       "        text-align: right;\n",
       "    }\n",
       "</style>\n",
       "<table border=\"1\" class=\"dataframe\">\n",
       "  <thead>\n",
       "    <tr style=\"text-align: right;\">\n",
       "      <th></th>\n",
       "      <th>Desc Concepto Clearing</th>\n",
       "      <th>Nro Liquidacion</th>\n",
       "      <th>VENTAS</th>\n",
       "      <th>ARANCEL</th>\n",
       "      <th>IVA 21%</th>\n",
       "      <th>Iva 21 control</th>\n",
       "      <th>DESCUENTO FINANC.OTORG. CUOTAS/PROMO CUOTAS AHORA 12/18</th>\n",
       "      <th>Iva 10,5%</th>\n",
       "      <th>Iva 10,5 control</th>\n",
       "      <th>RETENCION IVA</th>\n",
       "      <th>PER B.A.I.BR.DN.01/04</th>\n",
       "      <th>RETENCION IMP.GANANCIAS</th>\n",
       "      <th>RETENCION ING.BRUTOS</th>\n",
       "      <th>RETENCION ING.BRUTOS SIRTAC</th>\n",
       "      <th>PERCEPCION IVA R.G. 2408  1,50/3,00 %</th>\n",
       "      <th>TOTAL DEDUCCIONES</th>\n",
       "      <th>IMPORTE NETO DE PAGOS</th>\n",
       "      <th>Diferencia</th>\n",
       "    </tr>\n",
       "    <tr>\n",
       "      <th>Cod Marca Producto</th>\n",
       "      <th>Cod Comercio</th>\n",
       "      <th></th>\n",
       "      <th></th>\n",
       "      <th></th>\n",
       "      <th></th>\n",
       "      <th></th>\n",
       "      <th></th>\n",
       "      <th></th>\n",
       "      <th></th>\n",
       "      <th></th>\n",
       "      <th></th>\n",
       "      <th></th>\n",
       "      <th></th>\n",
       "      <th></th>\n",
       "      <th></th>\n",
       "      <th></th>\n",
       "      <th></th>\n",
       "      <th></th>\n",
       "    </tr>\n",
       "  </thead>\n",
       "  <tbody>\n",
       "    <tr>\n",
       "      <th>Mastercard</th>\n",
       "      <th>4547438</th>\n",
       "      <td>149215</td>\n",
       "      <td>1.727654e+08</td>\n",
       "      <td>3518321.09</td>\n",
       "      <td>738847.43</td>\n",
       "      <td>13.23</td>\n",
       "      <td>10010475.91</td>\n",
       "      <td>1051099.97</td>\n",
       "      <td>4.33</td>\n",
       "      <td>4777127.99</td>\n",
       "      <td>94700.96</td>\n",
       "      <td>1588633.84</td>\n",
       "      <td>3057420.15</td>\n",
       "      <td>1383225.93</td>\n",
       "      <td>108304.94</td>\n",
       "      <td>26328159.44</td>\n",
       "      <td>1.464373e+08</td>\n",
       "      <td>-1.25</td>\n",
       "    </tr>\n",
       "  </tbody>\n",
       "</table>\n",
       "</div>"
      ],
      "text/plain": [
       "Desc Concepto Clearing           Nro Liquidacion        VENTAS     ARANCEL  \\\n",
       "Cod Marca Producto Cod Comercio                                              \n",
       "Mastercard         4547438                149215  1.727654e+08  3518321.09   \n",
       "\n",
       "Desc Concepto Clearing             IVA 21%  Iva 21 control  \\\n",
       "Cod Marca Producto Cod Comercio                              \n",
       "Mastercard         4547438       738847.43           13.23   \n",
       "\n",
       "Desc Concepto Clearing           DESCUENTO FINANC.OTORG. CUOTAS/PROMO CUOTAS AHORA 12/18  \\\n",
       "Cod Marca Producto Cod Comercio                                                            \n",
       "Mastercard         4547438                                             10010475.91         \n",
       "\n",
       "Desc Concepto Clearing            Iva 10,5%  Iva 10,5 control  RETENCION IVA  \\\n",
       "Cod Marca Producto Cod Comercio                                                \n",
       "Mastercard         4547438       1051099.97              4.33     4777127.99   \n",
       "\n",
       "Desc Concepto Clearing           PER B.A.I.BR.DN.01/04  \\\n",
       "Cod Marca Producto Cod Comercio                          \n",
       "Mastercard         4547438                    94700.96   \n",
       "\n",
       "Desc Concepto Clearing           RETENCION IMP.GANANCIAS  \\\n",
       "Cod Marca Producto Cod Comercio                            \n",
       "Mastercard         4547438                    1588633.84   \n",
       "\n",
       "Desc Concepto Clearing           RETENCION ING.BRUTOS  \\\n",
       "Cod Marca Producto Cod Comercio                         \n",
       "Mastercard         4547438                 3057420.15   \n",
       "\n",
       "Desc Concepto Clearing           RETENCION ING.BRUTOS SIRTAC  \\\n",
       "Cod Marca Producto Cod Comercio                                \n",
       "Mastercard         4547438                        1383225.93   \n",
       "\n",
       "Desc Concepto Clearing           PERCEPCION IVA R.G. 2408  1,50/3,00 %  \\\n",
       "Cod Marca Producto Cod Comercio                                          \n",
       "Mastercard         4547438                                   108304.94   \n",
       "\n",
       "Desc Concepto Clearing           TOTAL DEDUCCIONES  IMPORTE NETO DE PAGOS  \\\n",
       "Cod Marca Producto Cod Comercio                                             \n",
       "Mastercard         4547438             26328159.44           1.464373e+08   \n",
       "\n",
       "Desc Concepto Clearing           Diferencia  \n",
       "Cod Marca Producto Cod Comercio              \n",
       "Mastercard         4547438            -1.25  "
      ]
     },
     "execution_count": 7,
     "metadata": {},
     "output_type": "execute_result"
    }
   ],
   "source": [
    "tarjeta_mastercard"
   ]
  },
  {
   "cell_type": "code",
   "execution_count": null,
   "id": "cb441d76",
   "metadata": {},
   "outputs": [],
   "source": []
  }
 ],
 "metadata": {
  "kernelspec": {
   "display_name": "Python 3 (ipykernel)",
   "language": "python",
   "name": "python3"
  },
  "language_info": {
   "codemirror_mode": {
    "name": "ipython",
    "version": 3
   },
   "file_extension": ".py",
   "mimetype": "text/x-python",
   "name": "python",
   "nbconvert_exporter": "python",
   "pygments_lexer": "ipython3",
   "version": "3.11.0"
  }
 },
 "nbformat": 4,
 "nbformat_minor": 5
}
