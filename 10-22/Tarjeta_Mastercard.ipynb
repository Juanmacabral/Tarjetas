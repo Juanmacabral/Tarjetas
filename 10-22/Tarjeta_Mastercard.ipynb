{
 "cells": [
  {
   "cell_type": "code",
   "execution_count": null,
   "id": "61225728",
   "metadata": {},
   "outputs": [],
   "source": [
    "import pandas as pd\n",
    "import openpyxl\n",
    "from pandas import ExcelWriter"
   ]
  },
  {
   "cell_type": "code",
   "execution_count": null,
   "id": "90160b29",
   "metadata": {},
   "outputs": [],
   "source": [
    "%store -r tarjetas\n",
    "%store -r bancos"
   ]
  },
  {
   "cell_type": "code",
   "execution_count": null,
   "id": "141f9cf8",
   "metadata": {},
   "outputs": [],
   "source": [
    "tarjeta_mastercard = tarjetas.loc [tarjetas['Cod Marca Producto']== 'Mastercard'] #Filtro por la Tarjeta Mastercard\n",
    "tarjeta_mastercard = tarjeta_mastercard.loc[:, (tarjeta_mastercard!= 0).any(axis=0)]\n",
    "tarjeta_mastercard = tarjeta_mastercard.loc[tarjetas['Cod Comercio']== 4547438] #Hay que filtrar por la tarjeta Mastercad y por este numero de comercio"
   ]
  },
  {
   "cell_type": "code",
   "execution_count": null,
   "id": "2afd68e0",
   "metadata": {},
   "outputs": [],
   "source": [
    "tarjeta_mastercard[\"PERCEPCION IVA R.G. 2408  1,50/3,00 %\"] = tarjeta_mastercard[\n",
    "                  ['PERCEPCION IVA R.G. 2408   1,50 %', 'PERCEPCION IVA R.G. 2408   3,00 %']].sum(axis=1, min_count=1)\n",
    "tarjeta_mastercard['VENTAS'] = tarjeta_mastercard['VENTAS C/DESCUENTO CONTADO'] + tarjeta_mastercard['VENTAS C/DTO CUOTAS FINANC. OTORG.']\n",
    "tarjeta_mastercard['RETENCION ING.BRUTOS SIRTAC'] = (tarjeta_mastercard['RETENCION ING.BRUTOS SIRTAC']\n",
    "                                                  + tarjeta_mastercard['AJUSTE SIRTAC OCT. 1RA QUIN']\n",
    "                                                  + tarjeta_mastercard['QR  RETENCION IIBB BS. AS.'])  \n",
    "tarjeta_mastercard['RETENCION IVA'] = tarjeta_mastercard['RETENCION IVA'] + tarjeta_mastercard['QR  RETENCION IVA']\n",
    "tarjeta_mastercard['RETENCION IMP.GANANCIAS'] = tarjeta_mastercard['RETENCION IMP.GANANCIAS'] + tarjeta_mastercard['QR  RETENCION GANANCIAS']\n",
    "\n",
    "tarjeta_mastercard[\"TOTAL DEDUCCIONES\"] = tarjeta_mastercard[[\"TOTAL DEDUCCIONES\", \"TOTAL PAGOS DE COMERCIOS\",'CARGOS DE ENTIDAD']\n",
    "                                                             ].sum(axis=1, min_count=1)\n",
    "tarjeta_mastercard['IVA 21%'] = tarjeta_mastercard[['IVA CRED.FISC.COMERCIO S/ARANC 21,00%','IVA PROMO CUOTAS AHORA 12/18 - 21,00%'\n",
    "                              , 'IVA RI SIST CUOTAS','IVA RI CRED.FISC.COMERCIO S/DTO F.OTORG'\n",
    "                              ,'IVA RI. CARGO LIQUID. ELECT.', 'IVA RI SERV.OPER. INT.']].sum(axis=1, min_count=1)\n",
    "tarjeta_mastercard['ARANCEL'] = (tarjeta_mastercard['ARANCEL'] + tarjeta_mastercard['CARGO  SISTEMA CUOTAS MENS'] +\n",
    "                                tarjeta_mastercard['CARGO LIQUIDACION ELECTR.']+ tarjeta_mastercard['SERVICIO OPER. INTERNAC.'])\n",
    "tarjeta_mastercard['DESCUENTO FINANC.OTORG. CUOTAS/PROMO CUOTAS AHORA 12/18'] = (tarjeta_mastercard['DESCUENTO FINANC.OTORG. CUOTAS']\n",
    "                                                                              + tarjeta_mastercard['PROMO CUOTAS AHORA 12/18'])\n",
    "tarjeta_mastercard['Iva 10,5%'] = (tarjeta_mastercard['IVA PROMO CUOTAS AHORA 12/18 - 10,50%'] \n",
    "                               + tarjeta_mastercard['IVA CRED.FISC.COM.L.25063 S/DTO F.OTOR 10,50'])\n",
    "tarjeta_mastercard = tarjeta_mastercard.reindex(columns=['Fecha de Pago', 'Cod Marca Producto', 'Cod Comercio',\n",
    "       'Nro Liquidacion','VENTAS', 'ARANCEL', 'IVA 21%', 'DESCUENTO FINANC.OTORG. CUOTAS/PROMO CUOTAS AHORA 12/18',\n",
    "       'Iva 10,5%', 'RETENCION IVA','PER B.A.I.BR.DN.01/04', 'RETENCION IMP.GANANCIAS','RETENCION ING.BRUTOS',\n",
    "       'RETENCION ING.BRUTOS SIRTAC',\"PERCEPCION IVA R.G. 2408  1,50/3,00 %\",'REEMBOLSOS DE ENTIDAD' ,\n",
    "       'TOTAL DEDUCCIONES', 'TOTAL LIQUIDACION']) #reordeno columnas, aca ya quedan en el orden que es necesario\n",
    "tarjeta_mastercard['DESCUENTO FINANC.OTORG. CUOTAS/PROMO CUOTAS AHORA 12/18'] = tarjeta_mastercard['Iva 10,5%']*100/10.5\n",
    "tarjeta_mastercard['ARANCEL'] = tarjeta_mastercard['IVA 21%']*100/21            \n",
    "\n",
    "tarjeta_mastercard.insert(7, 'Iva 21 control', tarjeta_mastercard['IVA 21%']/tarjeta_mastercard['ARANCEL'])\n",
    "                                #agrego columna de control para IVA 21%\n",
    "tarjeta_mastercard.insert(10, 'Iva 10,5 control', \n",
    "                                tarjeta_mastercard['Iva 10,5%']/tarjeta_mastercard['DESCUENTO FINANC.OTORG. CUOTAS/PROMO CUOTAS AHORA 12/18'])\n",
    "                                #agrego columna de control para IVA 10,5%                                \n",
    "tarjeta_mastercard = tarjeta_mastercard.assign(Diferencia = tarjeta_mastercard.iloc[:, 5:7].sum(axis=True) \n",
    "                         + tarjeta_mastercard.iloc[:, 8:10].sum(axis=True)\n",
    "                         + tarjeta_mastercard.iloc[:, 11:18].sum(axis=True)\n",
    "                         - tarjeta_mastercard['TOTAL DEDUCCIONES']) #agrego columna de control final\n",
    "tarjeta_mastercard = tarjeta_mastercard.round(2)"
   ]
  },
  {
   "cell_type": "code",
   "execution_count": null,
   "id": "76ac7e88",
   "metadata": {},
   "outputs": [],
   "source": [
    "sum_columns = [\n",
    "       'Nro Liquidacion', 'VENTAS', 'ARANCEL', 'IVA 21%', 'Iva 21 control',\n",
    "       'DESCUENTO FINANC.OTORG. CUOTAS/PROMO CUOTAS AHORA 12/18', 'Iva 10,5%',\n",
    "       'Iva 10,5 control', 'RETENCION IVA', 'PER B.A.I.BR.DN.01/04',\n",
    "       'RETENCION IMP.GANANCIAS', 'RETENCION ING.BRUTOS',\n",
    "       'RETENCION ING.BRUTOS SIRTAC', \"PERCEPCION IVA R.G. 2408  1,50/3,00 %\",\n",
    "       'REEMBOLSOS DE ENTIDAD', 'TOTAL DEDUCCIONES',\n",
    "       'TOTAL LIQUIDACION', 'Diferencia']\n",
    "max_columns = ['Nro Liquidacion']\n",
    "\n",
    "group = {col: ('max' if col in max_columns else 'sum') for col in sum_columns}\n",
    "\n",
    "tarjeta_mastercard=tarjeta_mastercard.groupby(by=['Cod Marca Producto', 'Cod Comercio']).agg(group)"
   ]
  },
  {
   "cell_type": "code",
   "execution_count": null,
   "id": "a9e91f77",
   "metadata": {},
   "outputs": [],
   "source": [
    "tarjeta_mastercard= tarjeta_mastercard.drop(['Diferencia', 'Iva 21 control', 'Iva 10,5 control'], axis=1)"
   ]
  },
  {
   "cell_type": "code",
   "execution_count": null,
   "id": "e99e3b7f",
   "metadata": {},
   "outputs": [],
   "source": [
    "writer = ExcelWriter('/content/drive/MyDrive/Colab Notebooks/Le Utthe/Tarjetas/10-22/Mastercard1022-2.xlsx')\n",
    "tarjeta_mastercard.to_excel(writer, 'Hoja de datos', index=True)\n",
    "writer.save()"
   ]
  }
 ],
 "metadata": {
  "kernelspec": {
   "display_name": "Python 3 (ipykernel)",
   "language": "python",
   "name": "python3"
  },
  "language_info": {
   "codemirror_mode": {
    "name": "ipython",
    "version": 3
   },
   "file_extension": ".py",
   "mimetype": "text/x-python",
   "name": "python",
   "nbconvert_exporter": "python",
   "pygments_lexer": "ipython3",
   "version": "3.11.0"
  }
 },
 "nbformat": 4,
 "nbformat_minor": 5
}
