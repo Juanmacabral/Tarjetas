{
 "cells": [
  {
   "cell_type": "code",
   "execution_count": 10,
   "id": "55af0c59",
   "metadata": {},
   "outputs": [],
   "source": [
    "import pandas as pd\n",
    "import openpyxl\n",
    "from pandas import ExcelWriter"
   ]
  },
  {
   "cell_type": "code",
   "execution_count": 11,
   "id": "47820ada",
   "metadata": {},
   "outputs": [],
   "source": [
    "%store -r tarjetas\n",
    "%store -r bancos"
   ]
  },
  {
   "cell_type": "code",
   "execution_count": 12,
   "id": "2c306114",
   "metadata": {},
   "outputs": [],
   "source": [
    "tarjeta_mastercard_debit = tarjetas.loc [tarjetas['Cod Marca Producto']== 'Master Debit'] #Filtro por la Tarjeta Mastercard Debit\n",
    "tarjeta_mastercard_debit = tarjeta_mastercard_debit.loc[:, (tarjeta_mastercard_debit != 0).any(axis=0)]"
   ]
  },
  {
   "cell_type": "code",
   "execution_count": 13,
   "id": "99298e96",
   "metadata": {},
   "outputs": [],
   "source": [
    "tarjeta_mastercard_debit[\"RETENCION ING.BRUTOS SIRTAC\"] = tarjeta_mastercard_debit[\n",
    "                        [\"RETENCION ING.BRUTOS SIRTAC\", \"CARGO POSNET WWW.FISERV.COM.AR\"]].sum(axis=1, min_count=1) #junto columnas relacionadas en una\n",
    "tarjeta_mastercard_debit[\"TOTAL DEDUCCIONES\"] = tarjeta_mastercard_debit[\n",
    "                        [\"TOTAL DEDUCCIONES\", \"TOTAL PAGOS DE COMERCIOS\"]].sum(axis=1, min_count=1) #junto columnas relacionadas en una\n",
    "tarjeta_mastercard_debit = tarjeta_mastercard_debit.reindex(columns=['Fecha de Pago', 'Cod Marca Producto', 'Cod Comercio',\n",
    "       'Nro Liquidacion','VENTAS C/DESCUENTO CONTADO', 'ARANCEL', 'IVA CRED.FISC.COMERCIO S/ARANC 21,00%',\n",
    "       'RETENCION IVA','PER B.A.I.BR.DN.01/04', 'RETENCION IMP.GANANCIAS','RETENCION ING.BRUTOS',\n",
    "       'RETENCION ING.BRUTOS SIRTAC','PERCEPCION IVA R.G. 2408   3,00 %', 'TOTAL DEDUCCIONES', 'TOTAL LIQUIDACION'])\n",
    "         #reordeno columnas, aca ya quedan en el orden que es necesario\n",
    "\n",
    "tarjeta_mastercard_debit.insert(7, 'Iva 21', \n",
    "                                tarjeta_mastercard_debit['IVA CRED.FISC.COMERCIO S/ARANC 21,00%']/tarjeta_mastercard_debit['ARANCEL'])\n",
    "                                #agrego columna de control para IVA %2\n",
    "tarjeta_mastercard_debit = tarjeta_mastercard_debit.assign(Diferencia = tarjeta_mastercard_debit.iloc[:, 5:7].sum(axis=True) \n",
    "                         + tarjeta_mastercard_debit.iloc[:, 8:14].sum(axis=True)\n",
    "                         - tarjeta_mastercard_debit['TOTAL DEDUCCIONES']) #agrego columna de control final\n",
    "tarjeta_mastercard_debit = tarjeta_mastercard_debit.round(2)\n"
   ]
  },
  {
   "cell_type": "code",
   "execution_count": 14,
   "id": "696da71a",
   "metadata": {},
   "outputs": [],
   "source": [
    "sum_columns = ['Nro Liquidacion', 'VENTAS C/DESCUENTO CONTADO', 'ARANCEL', 'IVA CRED.FISC.COMERCIO S/ARANC 21,00%', 'Iva 21', 'RETENCION IVA',\n",
    "               'PER B.A.I.BR.DN.01/04', 'RETENCION IMP.GANANCIAS', 'RETENCION ING.BRUTOS', 'RETENCION ING.BRUTOS SIRTAC', \n",
    "               'PERCEPCION IVA R.G. 2408   3,00 %', 'TOTAL DEDUCCIONES', 'TOTAL LIQUIDACION', 'Diferencia']\n",
    "max_columns = ['Nro Liquidacion']\n",
    "\n",
    "group = {col: ('max' if col in max_columns else 'sum') for col in sum_columns}\n",
    "\n",
    "tarjeta_mastercard_debit=tarjeta_mastercard_debit.groupby(by=['Cod Marca Producto', 'Cod Comercio']).agg(group)"
   ]
  },
  {
   "cell_type": "code",
   "execution_count": 16,
   "id": "48db3b6a",
   "metadata": {},
   "outputs": [
    {
     "data": {
      "text/html": [
       "<div>\n",
       "<style scoped>\n",
       "    .dataframe tbody tr th:only-of-type {\n",
       "        vertical-align: middle;\n",
       "    }\n",
       "\n",
       "    .dataframe tbody tr th {\n",
       "        vertical-align: top;\n",
       "    }\n",
       "\n",
       "    .dataframe thead th {\n",
       "        text-align: right;\n",
       "    }\n",
       "</style>\n",
       "<table border=\"1\" class=\"dataframe\">\n",
       "  <thead>\n",
       "    <tr style=\"text-align: right;\">\n",
       "      <th>Desc Concepto Clearing</th>\n",
       "      <th>Cod Marca Producto</th>\n",
       "      <th>Cod Comercio</th>\n",
       "      <th>Nro Liquidacion</th>\n",
       "      <th>VENTAS C/DESCUENTO CONTADO</th>\n",
       "      <th>ARANCEL</th>\n",
       "      <th>IVA CRED.FISC.COMERCIO S/ARANC 21,00%</th>\n",
       "      <th>RETENCION IVA</th>\n",
       "      <th>PER B.A.I.BR.DN.01/04</th>\n",
       "      <th>RETENCION IMP.GANANCIAS</th>\n",
       "      <th>RETENCION ING.BRUTOS</th>\n",
       "      <th>RETENCION ING.BRUTOS SIRTAC</th>\n",
       "      <th>PERCEPCION IVA R.G. 2408   3,00 %</th>\n",
       "      <th>TOTAL DEDUCCIONES</th>\n",
       "      <th>TOTAL LIQUIDACION</th>\n",
       "    </tr>\n",
       "  </thead>\n",
       "  <tbody>\n",
       "    <tr>\n",
       "      <th>0</th>\n",
       "      <td>Master Debit</td>\n",
       "      <td>4547438</td>\n",
       "      <td>149303</td>\n",
       "      <td>71080394.3</td>\n",
       "      <td>568631.23</td>\n",
       "      <td>119412.57</td>\n",
       "      <td>352558.81</td>\n",
       "      <td>3980.42</td>\n",
       "      <td>352558.81</td>\n",
       "      <td>1396132.92</td>\n",
       "      <td>606597.74</td>\n",
       "      <td>17063.42</td>\n",
       "      <td>3416935.92</td>\n",
       "      <td>67701412.95</td>\n",
       "    </tr>\n",
       "  </tbody>\n",
       "</table>\n",
       "</div>"
      ],
      "text/plain": [
       "Desc Concepto Clearing Cod Marca Producto  Cod Comercio  Nro Liquidacion  \\\n",
       "0                            Master Debit       4547438           149303   \n",
       "\n",
       "Desc Concepto Clearing  VENTAS C/DESCUENTO CONTADO    ARANCEL  \\\n",
       "0                                       71080394.3  568631.23   \n",
       "\n",
       "Desc Concepto Clearing  IVA CRED.FISC.COMERCIO S/ARANC 21,00%  RETENCION IVA  \\\n",
       "0                                                   119412.57      352558.81   \n",
       "\n",
       "Desc Concepto Clearing  PER B.A.I.BR.DN.01/04  RETENCION IMP.GANANCIAS  \\\n",
       "0                                     3980.42                352558.81   \n",
       "\n",
       "Desc Concepto Clearing  RETENCION ING.BRUTOS  RETENCION ING.BRUTOS SIRTAC  \\\n",
       "0                                 1396132.92                    606597.74   \n",
       "\n",
       "Desc Concepto Clearing  PERCEPCION IVA R.G. 2408   3,00 %  TOTAL DEDUCCIONES  \\\n",
       "0                                                17063.42         3416935.92   \n",
       "\n",
       "Desc Concepto Clearing  TOTAL LIQUIDACION  \n",
       "0                             67701412.95  "
      ]
     },
     "execution_count": 16,
     "metadata": {},
     "output_type": "execute_result"
    }
   ],
   "source": [
    "tarjeta_mastercard_debit"
   ]
  },
  {
   "cell_type": "code",
   "execution_count": 15,
   "id": "b5faef30",
   "metadata": {},
   "outputs": [],
   "source": [
    "tarjeta_mastercard_debit.drop(['Diferencia', 'Iva 21'], inplace=True, axis=1)\n",
    "tarjeta_mastercard_debit.reset_index(inplace=True)\n",
    "\n",
    "#Aca termina. Hay que exportar la tabla a un Excel"
   ]
  },
  {
   "cell_type": "code",
   "execution_count": 17,
   "id": "61eff1ec",
   "metadata": {},
   "outputs": [
    {
     "name": "stderr",
     "output_type": "stream",
     "text": [
      "C:\\Users\\Juan M Cabral\\AppData\\Local\\Temp\\ipykernel_12620\\99857620.py:3: FutureWarning: save is not part of the public API, usage can give unexpected results and will be removed in a future version\n",
      "  writer.save()\n"
     ]
    }
   ],
   "source": [
    "writer = ExcelWriter(r'C:\\Users\\Juan M Cabral\\Desktop\\Liquidaciones tarjetas\\11-22\\Masterdebit1122.xlsx')\n",
    "tarjeta_mastercard_debit.to_excel(writer, 'Hoja de datos', index=False)\n",
    "writer.save()"
   ]
  },
  {
   "cell_type": "code",
   "execution_count": null,
   "id": "de9ea169",
   "metadata": {},
   "outputs": [],
   "source": []
  }
 ],
 "metadata": {
  "kernelspec": {
   "display_name": "Python 3 (ipykernel)",
   "language": "python",
   "name": "python3"
  },
  "language_info": {
   "codemirror_mode": {
    "name": "ipython",
    "version": 3
   },
   "file_extension": ".py",
   "mimetype": "text/x-python",
   "name": "python",
   "nbconvert_exporter": "python",
   "pygments_lexer": "ipython3",
   "version": "3.11.0"
  }
 },
 "nbformat": 4,
 "nbformat_minor": 5
}
