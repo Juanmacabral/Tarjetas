{
 "cells": [
  {
   "cell_type": "code",
   "execution_count": 4,
   "id": "d030b214",
   "metadata": {},
   "outputs": [],
   "source": [
    "import pandas as pd\n",
    "import openpyxl\n",
    "import xlrd"
   ]
  },
  {
   "cell_type": "code",
   "execution_count": 5,
   "id": "3cbd0b76",
   "metadata": {},
   "outputs": [
    {
     "name": "stdout",
     "output_type": "stream",
     "text": [
      "Stored 'bancos' (DataFrame)\n"
     ]
    }
   ],
   "source": [
    "tarjetas = pd.read_excel('CASHFLOW Conbra nov 22.xls')\n",
    "bancos = pd.read_excel('localesybancos2.xlsx')\n",
    "%store bancos"
   ]
  },
  {
   "cell_type": "code",
   "execution_count": 7,
   "id": "216291be",
   "metadata": {},
   "outputs": [
    {
     "name": "stdout",
     "output_type": "stream",
     "text": [
      "Stored 'tarjetas' (DataFrame)\n"
     ]
    }
   ],
   "source": [
    "#tarjetas = tarjetas.rename(columns=tarjetas.iloc[0]).drop(tarjetas.index[0]) #primera fila se transforma en Columnas\n",
    "tarjetas.rename(columns={'Marca Producto': 'Cod Marca Producto'}, inplace=True)\n",
    "tarjetas = tarjetas.drop(columns=['Fecha de Presentacion','Cod Concepto Clearing', 'Cod Sucursal Pagadora',\n",
    "                  'Nombre Comercio', 'Cod Entidad Pagadora', 'Cuit Ruc Num']) #Borro columnas que no sirven\n",
    "tarjetas = tarjetas.pivot_table(index=['Fecha de Pago', 'Cod Marca Producto','Cod Comercio', 'Nro Liquidacion'],\n",
    "                     columns='Desc Concepto Clearing',\n",
    "                     values='Importe Concepto',) \n",
    "#reordeno la tabla asignando nuevas columnas, las cuales provienen originalmente de \"Desc Concepto Clearing\"\n",
    "tarjetas = tarjetas.reset_index() #reinicio el indice para \"acomodar\" columnas\n",
    "tarjetas = tarjetas.rename(columns=lambda x: x.strip()) #elimino espacios en blanco de los extremos de los nombres de las columnas\n",
    "tarjetas = tarjetas.drop(columns=['CRED FISCAL AHORA 12/18 VTA EN CUOTAS 10,50%',\n",
    "       'CRED FISCAL AHORA 12/18 VTA EN CUOTAS 21,00%',\n",
    "       'CRED. FISCAL PAG.S/DTO.FIN.OTORG 21,00%',\n",
    "       'CRED.FISC.LEY 25063 PAG.S/DTO.F.OTORG. 10,50',\n",
    "       'SUBTOTAL NETO DE PAGOS', 'TOTAL LIQUIDACION'\n",
    "       ]) #Elimino las columnas de \"Cred Fiscal\" y \"netos de pagos\" \n",
    "tarjetas = tarjetas.fillna(0) # reemplazo todas las celdas Nan con un valor (0)\n",
    "tarjetas = tarjetas.astype({'Cod Comercio':'int', 'Nro Liquidacion':'int'}) #transformo en int 2 columnas, las cuales no deben llevar decimales\n",
    "%store tarjetas"
   ]
  },
  {
   "cell_type": "code",
   "execution_count": 8,
   "id": "536bfd58",
   "metadata": {},
   "outputs": [
    {
     "data": {
      "text/plain": [
       "Index(['Fecha de Pago', 'Cod Marca Producto', 'Cod Comercio',\n",
       "       'Nro Liquidacion', 'PERCEPCION IVA R.G. 2408   3,00 %',\n",
       "       'AJUSTE SIRTAC NOV. 1RA QU', 'AJUSTE SIRTAC OCT. 2DA QUIN', 'ARANCEL',\n",
       "       'CARGO  SISTEMA CUOTAS MENS', 'CARGO LIQUIDACION ELECTR.',\n",
       "       'CARGO POSNET WWW.FISERV.COM.AR', 'CARGOS DE ENTIDAD',\n",
       "       'DESCUENTO FINANC.OTORG. CUOTAS', 'IMPORTE NETO DE PAGOS',\n",
       "       'IVA CRED.FISC.COM.L.25063 S/DTO F.OTOR 10,50',\n",
       "       'IVA CRED.FISC.COMERCIO S/ARANC 21,00%',\n",
       "       'IVA PROMO CUOTAS AHORA 12/18 - 10,50%',\n",
       "       'IVA PROMO CUOTAS AHORA 12/18 - 21,00%',\n",
       "       'IVA RI CRED.FISC.COMERCIO S/DTO F.OTORG', 'IVA RI SERV.OPER. INT.',\n",
       "       'IVA RI SIST CUOTAS', 'IVA RI. CARGO LIQUID. ELECT.',\n",
       "       'PER B.A.I.BR.DN.01/04', 'PERC.I.B. CORRIENTES R.165/00',\n",
       "       'PERCEP ING BR MISIONES R.G. 003/93',\n",
       "       'PERCEPCION IVA R.G. 2408   1,50 %', 'PROMO CUOTAS AHORA 12/18',\n",
       "       'QR  RETENCION GANANCIAS', 'QR  RETENCION IIBB BS. AS.',\n",
       "       'QR  RETENCION IVA', 'REEMBOLSOS DE ENTIDAD', 'RETENCION IMP.GANANCIAS',\n",
       "       'RETENCION ING.BRUTOS', 'RETENCION ING.BRUTOS SIRTAC', 'RETENCION IVA',\n",
       "       'SERVICIO OPER. INTERNAC.', 'TOTAL DEDUCCIONES',\n",
       "       'TOTAL PAGOS DE COMERCIOS', 'VENTAS C/DESCUENTO CONTADO',\n",
       "       'VENTAS C/DTO CUOTAS FINANC. OTORG.'],\n",
       "      dtype='object', name='Desc Concepto Clearing')"
      ]
     },
     "execution_count": 8,
     "metadata": {},
     "output_type": "execute_result"
    }
   ],
   "source": [
    "tarjetas.columns"
   ]
  },
  {
   "cell_type": "code",
   "execution_count": null,
   "id": "606bda90",
   "metadata": {},
   "outputs": [],
   "source": [
    "bancos"
   ]
  },
  {
   "cell_type": "code",
   "execution_count": null,
   "id": "ed845929",
   "metadata": {},
   "outputs": [],
   "source": [
    "tarjetas['Cod Marca Producto'].unique()"
   ]
  },
  {
   "cell_type": "code",
   "execution_count": null,
   "id": "22f5f863",
   "metadata": {},
   "outputs": [],
   "source": []
  }
 ],
 "metadata": {
  "kernelspec": {
   "display_name": "Python 3 (ipykernel)",
   "language": "python",
   "name": "python3"
  },
  "language_info": {
   "codemirror_mode": {
    "name": "ipython",
    "version": 3
   },
   "file_extension": ".py",
   "mimetype": "text/x-python",
   "name": "python",
   "nbconvert_exporter": "python",
   "pygments_lexer": "ipython3",
   "version": "3.11.0"
  }
 },
 "nbformat": 4,
 "nbformat_minor": 5
}
