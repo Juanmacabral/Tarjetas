{
 "cells": [
  {
   "cell_type": "code",
   "execution_count": 6,
   "id": "2a2e22ca",
   "metadata": {},
   "outputs": [],
   "source": [
    "import pandas as pd\n",
    "import openpyxl\n",
    "from pandas import ExcelWriter"
   ]
  },
  {
   "cell_type": "code",
   "execution_count": 2,
   "id": "2e6bb2b9",
   "metadata": {},
   "outputs": [],
   "source": [
    "%store -r tarjetas\n",
    "%store -r bancos"
   ]
  },
  {
   "cell_type": "code",
   "execution_count": 3,
   "id": "d605ae05",
   "metadata": {},
   "outputs": [],
   "source": [
    "tarjeta_maestro = tarjetas.loc [tarjetas['Cod Marca Producto']== 'Maestro'] #Filtro por la Tarjeta Maestro\n",
    "tarjeta_maestro = tarjeta_maestro.loc[:, (tarjeta_maestro != 0).any(axis=0)] #Elimino las columnas donde todos los valores son = 0\n",
    "#tarjeta_maestro['ARANCEL'] = tarjeta_maestro[[\"ARANCEL\", \"SERVICIO OPER. INTERNAC.\"]].sum(axis=1, min_count=1) #unifico columnas\n",
    "#tarjeta_maestro['IVA CRED.FISC.COMERCIO S/ARANC 21,00%'] = tarjeta_maestro[['IVA CRED.FISC.COMERCIO S/ARANC 21,00%',\n",
    "#                                                                            'IVA RI SERV.OPER. INT.']].sum(axis=1, min_count=1)#unifico columnas\n",
    "#tarjeta_maestro['TOTAL DEDUCCIONES'] = tarjeta_maestro[['TOTAL DEDUCCIONES', 'TOTAL PAGOS DE COMERCIOS']].sum(axis=1, min_count=1)#unifico columnas\n",
    "tarjeta_maestro = tarjeta_maestro.reindex(columns=['Fecha de Pago', 'Cod Marca Producto', 'Cod Comercio',\n",
    "       'Nro Liquidacion','VENTAS C/DESCUENTO CONTADO', 'ARANCEL', 'IVA CRED.FISC.COMERCIO S/ARANC 21,00%',\n",
    "       'RETENCION IVA','PER B.A.I.BR.DN.01/04', 'RETENCION IMP.GANANCIAS','RETENCION ING.BRUTOS',\n",
    "       'RETENCION ING.BRUTOS SIRTAC', 'TOTAL DEDUCCIONES', 'TOTAL LIQUIDACION']) #reordeno columnas, aca ya quedan en el orden necesario para imprimer\n",
    "tarjeta_maestro.insert(7, 'Iva 21', tarjeta_maestro['IVA CRED.FISC.COMERCIO S/ARANC 21,00%']/tarjeta_maestro['ARANCEL'])\n",
    "#agrego columna de control para IVA %21\n",
    "tarjeta_maestro = tarjeta_maestro.assign(Diferencia = tarjeta_maestro.iloc[:, 5:7].sum(axis=True) \n",
    "                  + tarjeta_maestro.iloc[:, 8:13].sum(axis=True)\n",
    "                  - tarjeta_maestro['TOTAL DEDUCCIONES']) #agrego columna de control final"
   ]
  },
  {
   "cell_type": "code",
   "execution_count": 4,
   "id": "8ad9db0f",
   "metadata": {},
   "outputs": [],
   "source": [
    "sum_columns = ['Nro Liquidacion', 'VENTAS C/DESCUENTO CONTADO', 'ARANCEL', 'IVA CRED.FISC.COMERCIO S/ARANC 21,00%', 'Iva 21', 'RETENCION IVA',\n",
    "               'PER B.A.I.BR.DN.01/04', 'RETENCION IMP.GANANCIAS', 'RETENCION ING.BRUTOS', 'RETENCION ING.BRUTOS SIRTAC', \n",
    "               'TOTAL DEDUCCIONES', 'TOTAL LIQUIDACION', 'Diferencia']\n",
    "max_columns = ['Nro Liquidacion']\n",
    "\n",
    "group = {col: ('max' if col in max_columns else 'sum') for col in sum_columns} #asigno una columna con valor maximo, y el resto con sumatoria\n",
    "\n",
    "tarjeta_maestro = tarjeta_maestro.groupby(by=['Cod Marca Producto', 'Cod Comercio']).agg(group)"
   ]
  },
  {
   "cell_type": "code",
   "execution_count": 7,
   "id": "77061eb9",
   "metadata": {},
   "outputs": [
    {
     "name": "stderr",
     "output_type": "stream",
     "text": [
      "C:\\Users\\Juan M Cabral\\AppData\\Local\\Temp\\ipykernel_10472\\4202070811.py:3: FutureWarning: save is not part of the public API, usage can give unexpected results and will be removed in a future version\n",
      "  writer.save()\n"
     ]
    }
   ],
   "source": [
    "writer = ExcelWriter(r'C:\\Users\\Juan M Cabral\\Desktop\\Liquidaciones tarjetas\\10-2022\\prueba.xlsx')\n",
    "tarjeta_maestro.to_excel(writer, 'Hoja de datos', index=True)\n",
    "writer.save()"
   ]
  },
  {
   "cell_type": "code",
   "execution_count": null,
   "id": "25968eab",
   "metadata": {},
   "outputs": [],
   "source": []
  }
 ],
 "metadata": {
  "kernelspec": {
   "display_name": "Python 3 (ipykernel)",
   "language": "python",
   "name": "python3"
  },
  "language_info": {
   "codemirror_mode": {
    "name": "ipython",
    "version": 3
   },
   "file_extension": ".py",
   "mimetype": "text/x-python",
   "name": "python",
   "nbconvert_exporter": "python",
   "pygments_lexer": "ipython3",
   "version": "3.11.0"
  }
 },
 "nbformat": 4,
 "nbformat_minor": 5
}
