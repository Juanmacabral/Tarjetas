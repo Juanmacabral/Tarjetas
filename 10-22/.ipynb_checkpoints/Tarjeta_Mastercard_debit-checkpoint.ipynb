{
 "cells": [
  {
   "cell_type": "code",
   "execution_count": null,
   "id": "55af0c59",
   "metadata": {},
   "outputs": [],
   "source": [
    "import pandas as pd\n",
    "import openpyxl\n",
    "from pandas import ExcelWriter"
   ]
  },
  {
   "cell_type": "code",
   "execution_count": null,
   "id": "47820ada",
   "metadata": {},
   "outputs": [],
   "source": [
    "%store -r tarjetas\n",
    "%store -r bancos"
   ]
  },
  {
   "cell_type": "code",
   "execution_count": null,
   "id": "2c306114",
   "metadata": {},
   "outputs": [],
   "source": [
    "tarjeta_mastercard_debit = tarjetas.loc [tarjetas['Cod Marca Producto']== 'Master Debit'] #Filtro por la Tarjeta Mastercard Debit\n",
    "tarjeta_mastercard_debit = tarjeta_mastercard_debit.loc[:, (tarjeta_mastercard_debit != 0).any(axis=0)]"
   ]
  },
  {
   "cell_type": "code",
   "execution_count": null,
   "id": "99298e96",
   "metadata": {},
   "outputs": [],
   "source": [
    "tarjeta_mastercard_debit[\"RETENCION ING.BRUTOS SIRTAC\"] = tarjeta_mastercard_debit[\n",
    "                        [\"RETENCION ING.BRUTOS SIRTAC\", \"CARGO POSNET WWW.FISERV.COM.AR\"]].sum(axis=1, min_count=1) #junto columnas relacionadas en una\n",
    "tarjeta_mastercard_debit[\"TOTAL DEDUCCIONES\"] = tarjeta_mastercard_debit[\n",
    "                        [\"TOTAL DEDUCCIONES\", \"TOTAL PAGOS DE COMERCIOS\"]].sum(axis=1, min_count=1) #junto columnas relacionadas en una\n",
    "tarjeta_mastercard_debit = tarjeta_mastercard_debit.reindex(columns=['Fecha de Pago', 'Cod Marca Producto', 'Cod Comercio',\n",
    "       'Nro Liquidacion','VENTAS C/DESCUENTO CONTADO', 'ARANCEL', 'IVA CRED.FISC.COMERCIO S/ARANC 21,00%',\n",
    "       'RETENCION IVA','PER B.A.I.BR.DN.01/04', 'RETENCION IMP.GANANCIAS','RETENCION ING.BRUTOS',\n",
    "       'RETENCION ING.BRUTOS SIRTAC','PERCEPCION IVA R.G. 2408   3,00 %', 'TOTAL DEDUCCIONES', 'TOTAL LIQUIDACION'])\n",
    "         #reordeno columnas, aca ya quedan en el orden que es necesario\n",
    "\n",
    "tarjeta_mastercard_debit.insert(7, 'Iva 21', \n",
    "                                tarjeta_mastercard_debit['IVA CRED.FISC.COMERCIO S/ARANC 21,00%']/tarjeta_mastercard_debit['ARANCEL'])\n",
    "                                #agrego columna de control para IVA %2\n",
    "tarjeta_mastercard_debit = tarjeta_mastercard_debit.assign(Diferencia = tarjeta_mastercard_debit.iloc[:, 5:7].sum(axis=True) \n",
    "                         + tarjeta_mastercard_debit.iloc[:, 8:14].sum(axis=True)\n",
    "                         - tarjeta_mastercard_debit['TOTAL DEDUCCIONES']) #agrego columna de control final\n",
    "tarjeta_mastercard_debit = tarjeta_mastercard_debit.round(2)\n"
   ]
  },
  {
   "cell_type": "code",
   "execution_count": null,
   "id": "696da71a",
   "metadata": {},
   "outputs": [],
   "source": [
    "sum_columns = ['Nro Liquidacion', 'VENTAS C/DESCUENTO CONTADO', 'ARANCEL', 'IVA CRED.FISC.COMERCIO S/ARANC 21,00%', 'Iva 21', 'RETENCION IVA',\n",
    "               'PER B.A.I.BR.DN.01/04', 'RETENCION IMP.GANANCIAS', 'RETENCION ING.BRUTOS', 'RETENCION ING.BRUTOS SIRTAC', \n",
    "               'PERCEPCION IVA R.G. 2408   3,00 %', 'TOTAL DEDUCCIONES', 'TOTAL LIQUIDACION', 'Diferencia']\n",
    "max_columns = ['Nro Liquidacion']\n",
    "\n",
    "group = {col: ('max' if col in max_columns else 'sum') for col in sum_columns}\n",
    "\n",
    "tarjeta_mastercard_debit=tarjeta_mastercard_debit.groupby(by=['Cod Marca Producto', 'Cod Comercio']).agg(group)"
   ]
  },
  {
   "cell_type": "code",
   "execution_count": null,
   "id": "b5faef30",
   "metadata": {},
   "outputs": [],
   "source": [
    "tarjeta_mastercard_debit.drop(['Diferencia', 'Iva 21'], inplace=True, axis=1)\n",
    "\n",
    "#Aca termina. Hay que exportar la tabla a un Excel"
   ]
  },
  {
   "cell_type": "code",
   "execution_count": null,
   "id": "61eff1ec",
   "metadata": {},
   "outputs": [],
   "source": [
    "writer = ExcelWriter(r'C:\\Users\\Juan M Cabral\\Desktop\\Liquidaciones tarjetas\\10-2022\\Masterdebit1022.xlsx')\n",
    "tarjeta_mastercard_debit.to_excel(writer, 'Hoja de datos', index=True)\n",
    "writer.save()"
   ]
  }
 ],
 "metadata": {
  "kernelspec": {
   "display_name": "Python 3 (ipykernel)",
   "language": "python",
   "name": "python3"
  },
  "language_info": {
   "codemirror_mode": {
    "name": "ipython",
    "version": 3
   },
   "file_extension": ".py",
   "mimetype": "text/x-python",
   "name": "python",
   "nbconvert_exporter": "python",
   "pygments_lexer": "ipython3",
   "version": "3.11.0"
  }
 },
 "nbformat": 4,
 "nbformat_minor": 5
}
