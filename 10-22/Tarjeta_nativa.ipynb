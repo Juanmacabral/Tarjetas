{
 "cells": [
  {
   "cell_type": "code",
   "execution_count": null,
   "id": "c09ba712",
   "metadata": {},
   "outputs": [],
   "source": [
    "import pandas as pd\n",
    "import openpyxl\n",
    "from pandas import ExcelWriter"
   ]
  },
  {
   "cell_type": "code",
   "execution_count": null,
   "id": "4180fc91",
   "metadata": {},
   "outputs": [],
   "source": [
    "%store -r tarjetas\n",
    "%store -r bancos"
   ]
  },
  {
   "cell_type": "code",
   "execution_count": null,
   "id": "6c577d2b",
   "metadata": {},
   "outputs": [],
   "source": [
    "tarjeta_nativa = tarjetas.loc [tarjetas['Cod Marca Producto']== 'Mastercard'] #Filtro por la Tarjeta Mastercard\n",
    "tarjeta_nativa = tarjeta_nativa.drop(tarjeta_nativa.index[(tarjeta_nativa[\"Cod Comercio\"] == 4547438)],axis=0) # Sacar ese Cod de Comercio\n",
    "tarjeta_nativa = tarjeta_nativa.loc[:, (tarjeta_nativa!= 0).any(axis=0)]"
   ]
  },
  {
   "cell_type": "code",
   "execution_count": null,
   "id": "9ab12bf6",
   "metadata": {},
   "outputs": [],
   "source": [
    "tarjeta_nativa[\"PERCEPCION IVA R.G. 2408  1,50/3,00 %\"] = tarjeta_mastercard[\n",
    "                  ['PERCEPCION IVA R.G. 2408   1,50 %', 'PERCEPCION IVA R.G. 2408   3,00 %']].sum(axis=1, min_count=1)\n",
    "tarjeta_nativa['VENTAS'] = tarjeta_nativa['VENTAS C/DESCUENTO CONTADO'] + tarjeta_nativa['VENTAS C/DTO CUOTAS FINANC. OTORG.']\n",
    "tarjeta_nativa['RETENCION ING.BRUTOS SIRTAC'] = (tarjeta_nativa['RETENCION ING.BRUTOS SIRTAC']\n",
    "                                                  + tarjeta_nativa['AJUSTE SIRTAC OCT. 1RA QUIN'])                  \n",
    "tarjeta_nativa[\"TOTAL DEDUCCIONES\"] = tarjeta_nativa[[\"TOTAL DEDUCCIONES\", \"TOTAL PAGOS DE COMERCIOS\",'CARGOS DE ENTIDAD']\n",
    "                                                             ].sum(axis=1, min_count=1)\n",
    "tarjeta_nativa['IVA 21%'] = tarjeta_nativa[['IVA CRED.FISC.COMERCIO S/ARANC 21,00%','IVA PROMO CUOTAS AHORA 12/18 - 21,00%'\n",
    "                              , 'IVA RI SIST CUOTAS','IVA RI CRED.FISC.COMERCIO S/DTO F.OTORG']].sum(axis=1, min_count=1)\n",
    "tarjeta_nativa['ARANCEL'] = tarjeta_nativa['ARANCEL'] + tarjeta_nativa['CARGO  SISTEMA CUOTAS MENS']\n",
    "tarjeta_nativa['DESCUENTO FINANC.OTORG. CUOTAS/PROMO CUOTAS AHORA 12/18'] = (tarjeta_nativa['DESCUENTO FINANC.OTORG. CUOTAS']\n",
    "                                                                              + tarjeta_nativa['PROMO CUOTAS AHORA 12/18'])\n",
    "tarjeta_nativa['Iva 10,5%'] = (tarjeta_nativa['IVA PROMO CUOTAS AHORA 12/18 - 10,50%'] \n",
    "                               + tarjeta_nativa['IVA CRED.FISC.COM.L.25063 S/DTO F.OTOR 10,50'])\n",
    "tarjeta_nativa = tarjeta_nativa.reindex(columns=['Fecha de Pago', 'Cod Marca Producto', 'Cod Comercio',\n",
    "       'Nro Liquidacion','VENTAS', 'ARANCEL', 'IVA 21%', 'DESCUENTO FINANC.OTORG. CUOTAS/PROMO CUOTAS AHORA 12/18',\n",
    "       'Iva 10,5%', 'RETENCION IVA','PER B.A.I.BR.DN.01/04', 'RETENCION IMP.GANANCIAS','RETENCION ING.BRUTOS',\n",
    "       'RETENCION ING.BRUTOS SIRTAC','PERCEPCION IVA R.G. 2408   3,00 %','REEMBOLSOS DE ENTIDAD' ,\n",
    "       'TOTAL DEDUCCIONES', 'TOTAL LIQUIDACION']) #reordeno columnas, aca ya quedan en el orden que es necesario\n",
    "tarjeta_nativa['DESCUENTO FINANC.OTORG. CUOTAS/PROMO CUOTAS AHORA 12/18'] = tarjeta_nativa['Iva 10,5%']*100/10.5\n",
    "tarjeta_nativa['ARANCEL'] = tarjeta_nativa['IVA 21%']*100/21            \n",
    "\n",
    "tarjeta_nativa.insert(7, 'Iva 21 control', tarjeta_nativa['IVA 21%']/tarjeta_nativa['ARANCEL'])\n",
    "                                #agrego columna de control para IVA 21%\n",
    "tarjeta_nativa.insert(10, 'Iva 10,5 control', \n",
    "                                tarjeta_mastercard['Iva 10,5%']/tarjeta_mastercard['DESCUENTO FINANC.OTORG. CUOTAS/PROMO CUOTAS AHORA 12/18'])\n",
    "                                #agrego columna de control para IVA 10,5%                                \n",
    "tarjeta_nativa = tarjeta_nativa.assign(Diferencia = tarjeta_nativa.iloc[:, 5:7].sum(axis=True) \n",
    "                         + tarjeta_nativa.iloc[:, 8:10].sum(axis=True)\n",
    "                         + tarjeta_nativa.iloc[:, 11:18].sum(axis=True)\n",
    "                         - tarjeta_nativa['TOTAL DEDUCCIONES']) #agrego columna de control final\n",
    "tarjeta_nativa = tarjeta_nativa.round(2)"
   ]
  },
  {
   "cell_type": "code",
   "execution_count": null,
   "id": "1c2997a7",
   "metadata": {},
   "outputs": [],
   "source": [
    "sum_columns = [\n",
    "       'Nro Liquidacion', 'VENTAS', 'ARANCEL', 'IVA 21%', 'Iva 21 control',\n",
    "       'DESCUENTO FINANC.OTORG. CUOTAS/PROMO CUOTAS AHORA 12/18', 'Iva 10,5%',\n",
    "       'Iva 10,5 control', 'RETENCION IVA', 'PER B.A.I.BR.DN.01/04',\n",
    "       'RETENCION IMP.GANANCIAS', 'RETENCION ING.BRUTOS',\n",
    "       'RETENCION ING.BRUTOS SIRTAC', 'PERCEPCION IVA R.G. 2408   3,00 %',\n",
    "       'REEMBOLSOS DE ENTIDAD', 'TOTAL DEDUCCIONES',\n",
    "       'TOTAL LIQUIDACION', 'Diferencia']\n",
    "max_columns = ['Nro Liquidacion']\n",
    "\n",
    "group = {col: ('max' if col in max_columns else 'sum') for col in sum_columns}\n",
    "\n",
    "tarjeta_nativa=tarjeta_nativa.groupby(by=['Cod Marca Producto', 'Cod Comercio']).agg(group)"
   ]
  },
  {
   "cell_type": "code",
   "execution_count": null,
   "id": "cee82053",
   "metadata": {},
   "outputs": [],
   "source": [
    "tarjeta_nativa = tarjeta_nativa.reset_index()"
   ]
  },
  {
   "cell_type": "code",
   "execution_count": null,
   "id": "b68fca68",
   "metadata": {},
   "outputs": [],
   "source": [
    "tarjeta_nativa = tarjeta_nativa.drop(['Diferencia', 'Iva 21 control', 'Iva 10,5 control'], axis=1)"
   ]
  },
  {
   "cell_type": "code",
   "execution_count": null,
   "id": "9203286d",
   "metadata": {},
   "outputs": [],
   "source": [
    "writer = ExcelWriter('/content/drive/MyDrive/Colab Notebooks/Le Utthe/Tarjetas/10-22/Nativa1022.xlsx')\n",
    "tarjeta_nativa.to_excel(writer, 'Hoja de datos', index=True)\n",
    "writer.save()"
   ]
  }
 ],
 "metadata": {
  "kernelspec": {
   "display_name": "Python 3 (ipykernel)",
   "language": "python",
   "name": "python3"
  },
  "language_info": {
   "codemirror_mode": {
    "name": "ipython",
    "version": 3
   },
   "file_extension": ".py",
   "mimetype": "text/x-python",
   "name": "python",
   "nbconvert_exporter": "python",
   "pygments_lexer": "ipython3",
   "version": "3.11.0"
  }
 },
 "nbformat": 4,
 "nbformat_minor": 5
}
