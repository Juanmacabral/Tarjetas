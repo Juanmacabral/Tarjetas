{
 "cells": [
  {
   "cell_type": "code",
   "execution_count": null,
   "id": "b9ec4777",
   "metadata": {},
   "outputs": [],
   "source": [
    "import pandas as pd\n",
    "import openpyxl\n",
    "from pandas import ExcelWriter"
   ]
  },
  {
   "cell_type": "code",
   "execution_count": null,
   "id": "33323bdc",
   "metadata": {},
   "outputs": [],
   "source": [
    "%store -r tarjetas\n",
    "%store -r bancos"
   ]
  },
  {
   "cell_type": "code",
   "execution_count": null,
   "id": "7bd21658",
   "metadata": {},
   "outputs": [],
   "source": [
    "tarjeta_visa_credito = tarjetas.loc [tarjetas['Cod Marca Producto']== 'Visa'] #Filtro por la Tarjeta Visa Credito\n",
    "tarjeta_visa_credito = tarjeta_visa_credito.loc[:, (tarjeta_visa_credito!= 0).any(axis=0)]\n",
    "tarjeta_visa_credito[\"PERCEPCION IVA R.G. 2408  1,50/3,00 %\"] = tarjeta_visa_credito[\n",
    "                    ['PERCEPCION IVA R.G. 2408   1,50 %', 'PERCEPCION IVA R.G. 2408   3,00 %']].sum(axis=1, min_count=1)\n",
    "                    #sumo 2 columnas, las de percepcion de IVA\n",
    "tarjeta_visa_credito['Ventas'] = tarjeta_visa_credito[['VENTAS C/DESCUENTO CONTADO',\n",
    "                                'VENTAS C/DTO CUOTAS FINANC. OTORG.']].sum(axis=1, min_count=1)\n",
    "                                #sumo 2 columnas, las de ventas\n",
    "tarjeta_visa_credito['TOTAL DEDUCCIONES'] = tarjeta_visa_credito[['TOTAL DEDUCCIONES', 'CARGOS DE ENTIDAD']].sum(axis=1, min_count=1)\n",
    "                                            #sumo 2 columnas, deducciones mas cargos de entidad\n",
    "#tarjeta_visa_credito['TOTAL DEDUCCIONES'] = tarjeta_visa_credito['TOTAL DEDUCCIONES'] - tarjeta_visa_credito['REEMBOLSOS DE ENTIDAD']\n",
    "\n",
    "tarjeta_visa_credito['RETENCION ING.BRUTOS SIRTAC'] = (tarjeta_visa_credito['RETENCION ING.BRUTOS SIRTAC']\n",
    "                                                    + tarjeta_visa_credito['AJUSTE SIRTAC OCT. 1RA QUIN'])\n",
    "tarjeta_visa_credito['IVA 21%'] = tarjeta_visa_credito[['IVA CRED.FISC.COMERCIO S/ARANC 21,00%', \n",
    "                                                        'IVA RI CRED.FISC.COMERCIO S/DTO F.OTORG']].sum(axis=1, min_count=1)\n",
    "tarjeta_visa_credito['DESCUENTO FINANC.OTORG. CUOTAS/PROMO CUOTAS AHORA 12/18'] = tarjeta_visa_credito[\n",
    "                    ['DESCUENTO FINANC.OTORG. CUOTAS','PROMO CUOTAS AHORA 12/18']].sum(axis=1, min_count=1)\n",
    "tarjeta_visa_credito['IVA 10.5%'] = tarjeta_visa_credito[['IVA PROMO CUOTAS AHORA 12/18 - 10,50%',\n",
    "                    'IVA CRED.FISC.COM.L.25063 S/DTO F.OTOR 10,50']].sum(axis=1, min_count=1)\n",
    "\n",
    "\n",
    "tarjeta_visa_credito = tarjeta_visa_credito.reindex(columns=['Fecha de Pago', 'Cod Marca Producto', 'Cod Comercio', 'Nro Liquidacion' ,'Ventas', \n",
    "'ARANCEL', 'IVA 21%','DESCUENTO FINANC.OTORG. CUOTAS/PROMO CUOTAS AHORA 12/18', 'IVA 10.5%', 'PER B.A.I.BR.DN.01/04',\n",
    "'PERC.I.B. CORRIENTES R.165/00', 'PERCEP ING BR MISIONES R.G. 003/93','PERCEPCION IVA R.G. 2408  1,50/3,00 %', 'RETENCION IMP.GANANCIAS',\n",
    "'RETENCION ING.BRUTOS', 'RETENCION IVA','RETENCION ING.BRUTOS SIRTAC', 'TOTAL DEDUCCIONES' ,'TOTAL LIQUIDACION',])\n",
    "#reordeno columnas, aca ya quedan en el orden que es necesario\n",
    "tarjeta_visa_credito.insert(7, 'Iva 21 control', \n",
    "                          tarjeta_visa_credito['IVA 21%']/tarjeta_visa_credito['ARANCEL'])\n",
    "                          #agrego columna de control para IVA 21%\n",
    "tarjeta_visa_credito.insert(10, 'Iva 10.5 control', \n",
    "                          tarjeta_visa_credito['IVA 10.5%']/tarjeta_visa_credito['DESCUENTO FINANC.OTORG. CUOTAS/PROMO CUOTAS AHORA 12/18'])\n",
    "                          #agrego columna de control para IVA 10.5%\n",
    "tarjeta_visa_credito['ARANCEL'] = tarjeta_visa_credito['IVA 21%']*100/21\n",
    "tarjeta_visa_credito['DESCUENTO FINANC.OTORG. CUOTAS/PROMO CUOTAS AHORA 12/18'] = tarjeta_visa_credito['IVA 10.5%']*100/10.5\n",
    "tarjeta_visa_credito = tarjeta_visa_credito.assign(Diferencia = tarjeta_visa_credito.iloc[:, 5:7].sum(axis=True) \n",
    "                      + tarjeta_visa_credito.iloc[:, 8:10].sum(axis=True)\n",
    "                      + tarjeta_visa_credito.iloc[:, 11:19].sum(axis=True)\n",
    "                      - tarjeta_visa_credito['TOTAL DEDUCCIONES']) #agrego columna de control final\n"
   ]
  },
  {
   "cell_type": "code",
   "execution_count": null,
   "id": "78b545ab",
   "metadata": {},
   "outputs": [],
   "source": [
    "tarjeta_visa_credito.groupby(by=['Cod Marca Producto', 'Cod Comercio']).agg(group)"
   ]
  },
  {
   "cell_type": "code",
   "execution_count": null,
   "id": "34b7189d",
   "metadata": {},
   "outputs": [],
   "source": [
    "sum_columns = ['Nro Liquidacion', 'Ventas', 'ARANCEL', 'IVA 21%', 'Iva 21 control',\n",
    "       'DESCUENTO FINANC.OTORG. CUOTAS/PROMO CUOTAS AHORA 12/18', 'IVA 10.5%',\n",
    "       'Iva 10.5 control', 'PER B.A.I.BR.DN.01/04',\n",
    "       'PERC.I.B. CORRIENTES R.165/00', 'PERCEP ING BR MISIONES R.G. 003/93',\n",
    "       'PERCEPCION IVA R.G. 2408  1,50/3,00 %', 'RETENCION IMP.GANANCIAS',\n",
    "       'RETENCION ING.BRUTOS', 'RETENCION IVA', 'RETENCION ING.BRUTOS SIRTAC',\n",
    "       'TOTAL DEDUCCIONES', 'TOTAL LIQUIDACION', 'Diferencia']\n",
    "max_columns = ['Nro Liquidacion']\n",
    "\n",
    "group = {col: ('max' if col in max_columns else 'sum') for col in sum_columns}\n",
    "\n",
    "tarjeta_visa_credito=tarjeta_visa_credito.groupby(by=['Cod Marca Producto', 'Cod Comercio']).agg(group)"
   ]
  },
  {
   "cell_type": "code",
   "execution_count": null,
   "id": "22b86e69",
   "metadata": {},
   "outputs": [],
   "source": [
    "tarjeta_visa_credito = tarjeta_visa_credito.drop(['Diferencia', 'Iva 21 control', 'Iva 10.5 control'], axis=1)"
   ]
  },
  {
   "cell_type": "code",
   "execution_count": null,
   "id": "43d5a2c1",
   "metadata": {},
   "outputs": [],
   "source": [
    "tarjeta_visa_credito = tarjeta_visa_credito.reset_index()\n",
    "tarjeta_visa_credito = tarjeta_visa_credito.merge(establecimientos)"
   ]
  },
  {
   "cell_type": "code",
   "execution_count": null,
   "id": "de1dcbc6",
   "metadata": {},
   "outputs": [],
   "source": [
    "writer = ExcelWriter('/content/drive/MyDrive/Colab Notebooks/Le Utthe/Tarjetas/10-22/Visadecredito1022.xlsx')\n",
    "tarjeta_visa_credito.to_excel(writer, 'Hoja de datos', index=True)\n",
    "writer.save()"
   ]
  }
 ],
 "metadata": {
  "kernelspec": {
   "display_name": "Python 3 (ipykernel)",
   "language": "python",
   "name": "python3"
  },
  "language_info": {
   "codemirror_mode": {
    "name": "ipython",
    "version": 3
   },
   "file_extension": ".py",
   "mimetype": "text/x-python",
   "name": "python",
   "nbconvert_exporter": "python",
   "pygments_lexer": "ipython3",
   "version": "3.11.0"
  }
 },
 "nbformat": 4,
 "nbformat_minor": 5
}
